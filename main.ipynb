{
 "cells": [
  {
   "cell_type": "markdown",
   "id": "b89ec6f1",
   "metadata": {},
   "source": [
    "\n",
    "This notebook reproduces the analyses presented in the study:  \n",
    "**\"Dissecting Healthcare Accessibility Shifts during COVID-19 using Mobility Data\"**\n",
    "\n",
    "We integrate large-scale mobility data with interpretable machine learning to examine year-over-year changes in healthcare accessibility between 2019 and 2022, focusing on four service types:\n",
    "\n",
    "- Adult Primary Care  \n",
    "- Pediatric Primary Care  \n",
    "- Emergency Room Visits  \n",
    "- Urgent Care Visits  \n",
    "\n",
    "We use:\n",
    "- Utilization-based accessibility models\n",
    "- CatBoost regressors\n",
    "- SHAP values for model interpretation\n"
   ]
  },
  {
   "cell_type": "markdown",
   "id": "8cf218c7",
   "metadata": {},
   "source": [
    "## 1. Accessibility for healthcare four category from 2019-2023\n",
    "\n",
    "Use access_cal.py to generate the accessibility data for each CBG for four healthcare category for year 2019-2023 seperatly."
   ]
  },
  {
   "cell_type": "code",
   "execution_count": 4,
   "id": "cec25c55",
   "metadata": {},
   "outputs": [
    {
     "name": "stdout",
     "output_type": "stream",
     "text": [
      "<bound method NDFrame.head of 0       0.195882\n",
      "1       0.112438\n",
      "2       0.170332\n",
      "3       0.386861\n",
      "4       0.220392\n",
      "          ...   \n",
      "5507    0.360792\n",
      "5508    0.300502\n",
      "5509    0.264490\n",
      "5510    0.132621\n",
      "5511    0.163055\n",
      "Name: accessibility, Length: 5512, dtype: float64>\n"
     ]
    }
   ],
   "source": [
    "import pandas as pd\n",
    "\n",
    "adult_primary_care_19 = pd.read_csv('/home/disk/hao/poi_v2_healthcare/weekly/accessibility/acess_cal_v2/2019_Adult Primary Care_access.csv')\n",
    "\n",
    "print(adult_primary_care_19['accessibility'].head)"
   ]
  },
  {
   "cell_type": "markdown",
   "id": "d4314682",
   "metadata": {},
   "source": [
    "## 2. Year-over-Year Accessibility Visualizations for four healthcare (2019–2022)"
   ]
  },
  {
   "cell_type": "code",
   "execution_count": 5,
   "id": "bd2d75ac",
   "metadata": {},
   "outputs": [],
   "source": [
    "import numpy as np # Import numpy to handle inf values\n",
    "import os\n",
    "import pandas as pd\n",
    "import geopandas as gpd\n",
    "import matplotlib.pyplot as plt\n",
    "from matplotlib.colors import LogNorm\n",
    "def visualize_accessibility_difference(yearA, yearB, category):\n",
    "    \"\"\"\n",
    "    Calculates and visualizes the difference in accessibility for a given category\n",
    "    between two specified years.\n",
    "\n",
    "    Args:\n",
    "        yearA (int): The first year.\n",
    "        yearB (int): The second year.\n",
    "        category (str): The healthcare category (e.g., \"Hospital\", \"Pharmacy\").\n",
    "    \"\"\"\n",
    "    print(f\"Calculating difference for {category}: {yearA} - {yearB}\")\n",
    "\n",
    "    # Construct filenames\n",
    "    file_template = '{year}_{category}_access.csv'\n",
    "    filenameA = file_template.format(year=yearA, category=category)\n",
    "    filenameB = file_template.format(year=yearB, category=category)\n",
    "    # filenameA = f\"{yearA}_{category}_access.csv\"\n",
    "    # filenameB = f\"{yearB}_{category}_access.csv\"\n",
    "\n",
    "    filepathA = os.path.join(input_dir, filenameA)\n",
    "    filepathB = os.path.join(input_dir, filenameB)\n",
    "    # Check if files exist\n",
    "    if not os.path.exists(filepathA):\n",
    "        print(f\"Error: File not found - {filepathA}\")\n",
    "        return\n",
    "    if not os.path.exists(filepathB):\n",
    "        print(f\"Error: File not found - {filepathB}\")\n",
    "        return\n",
    "\n",
    "    # Load accessibility data\n",
    "    access_dataA = pd.read_csv(filepathA)\n",
    "    access_dataB = pd.read_csv(filepathB)\n",
    "\n",
    "    # Replace inf and -inf values with 0 in the 'accessibility' column\n",
    "    access_dataA['accessibility'] = access_dataA['accessibility'].replace([np.inf, -np.inf], 0)\n",
    "    access_dataB['accessibility'] = access_dataB['accessibility'].replace([np.inf, -np.inf], 0)\n",
    "\n",
    "    # Ensure CBG columns are strings and padded\n",
    "    access_dataA['cbg'] = access_dataA['cbg'].astype(str).str.zfill(12)\n",
    "    access_dataB['cbg'] = access_dataB['cbg'].astype(str).str.zfill(12)\n",
    "\n",
    "    # Merge data with geographic data\n",
    "    # Use a common base (geo_data) to ensure all GEOIDs are present\n",
    "    merged_diff = geo_data.copy()\n",
    "    merged_diff = merged_diff.merge(access_dataA[['cbg', 'accessibility']], left_on='GEOID', right_on='cbg', how='left').drop(columns='cbg')\n",
    "    merged_diff = merged_diff.rename(columns={'accessibility': 'accessibility_A'})\n",
    "    merged_diff = merged_diff.merge(access_dataB[['cbg', 'accessibility']], left_on='GEOID', right_on='cbg', how='left').drop(columns='cbg')\n",
    "    merged_diff = merged_diff.rename(columns={'accessibility': 'accessibility_B'})\n",
    "\n",
    "    # Calculate the difference, handling potential NaNs (e.g., if a CBG is missing in one year)\n",
    "    # Fill NaN accessibility scores with 0 before calculating difference\n",
    "    merged_diff['accessibility_A'] = merged_diff['accessibility_A'].fillna(0)\n",
    "    merged_diff['accessibility_B'] = merged_diff['accessibility_B'].fillna(0)\n",
    "\n",
    "    merged_diff['accessibility_difference'] = merged_diff['accessibility_A'] - merged_diff['accessibility_B']\n",
    "\n",
    "    # Determine color scale limits using the 99th percentile of absolute differences\n",
    "    abs_diff = merged_diff['accessibility_difference'].abs()\n",
    "\n",
    "    # Handle the case where all differences are zero or NaN after filling\n",
    "    if abs_diff.sum() == 0:\n",
    "         max_limit = 0\n",
    "    else:\n",
    "        # Calculate the 99th percentile of absolute differences\n",
    "        max_limit = abs_diff.quantile(0.99)\n",
    "\n",
    "\n",
    "    vmin = -max_limit\n",
    "    vmax = max_limit\n",
    "\n",
    "    # Check if there's any significant difference to visualize\n",
    "    # This check still uses the calculated vmin/vmax which are based on the percentile\n",
    "    if abs(vmax - vmin) < 1e-9: # Use a small tolerance for floating point comparison\n",
    "        print(f\"No significant accessibility difference found for {category}: {yearA} vs {yearB} within the 99th percentile. Skipping plot generation.\")\n",
    "        return\n",
    "\n",
    "    # Create plot for difference\n",
    "    fig, ax = plt.subplots(1, 1, figsize=(15, 10))\n",
    "    merged_diff.plot(\n",
    "        column='accessibility_difference',\n",
    "        ax=ax,\n",
    "        legend=True,\n",
    "        legend_kwds={'label': f'Accessibility Difference ({yearA} - {yearB})', 'shrink': 0.5},\n",
    "        missing_kwds={'color': 'lightgrey'},\\\n",
    "        cmap='coolwarm', # Use a diverging colormap\n",
    "        vmin=vmin, # Set common scale min\n",
    "        vmax=vmax  # Set common scale max\n",
    "    )\n",
    "\n",
    "    # Configure plot\n",
    "    plt.title(f'{category} Accessibility Difference in Georgia: {yearA} vs {yearB} (99th Percentile Scale)', pad=20, fontsize=14)\n",
    "    ax.axis('off')\n",
    "\n",
    "    # Save and close\n",
    "    output_filename = f'{yearA}_{yearB}_{category.replace(\" \", \"_\")}_accessibility_difference_99percentile.png' # Appended _99percentile to filename\n",
    "    output_path = os.path.join(output_dir, output_filename)\n",
    "    plt.savefig(output_path, dpi=300, bbox_inches='tight')\n",
    "    plt.close()\n",
    "\n",
    "    print(f'Saved difference plot: {output_path}')"
   ]
  },
  {
   "cell_type": "code",
   "execution_count": null,
   "id": "0db89b15",
   "metadata": {},
   "outputs": [],
   "source": [
    "input_dir = '/home/disk/hao/poi_v2_healthcare/weekly/accessibility/acess_cal_v2'\n",
    "output_dir = '/home/disk/hao/poi_v2_healthcare/weekly/accessibility/acess_cal_v2/covid/difference'\n",
    "\n",
    "\n",
    "geojson_path = \"/home/disk/hao/poi_v2_healthcare/tl_2019_13_bg/tl_2019_13_bg.shp\"\n",
    "os.makedirs(output_dir, exist_ok=True)\n",
    "\n",
    "# Load geographic data once\n",
    "geo_data = gpd.read_file(geojson_path)\n",
    "geo_data['GEOID'] = geo_data['GEOID'].astype(str).str.zfill(12)\n"
   ]
  },
  {
   "cell_type": "code",
   "execution_count": null,
   "id": "2f008e10",
   "metadata": {},
   "outputs": [],
   "source": [
    "year_combinations = [\n",
    "    (2019, 2020),\n",
    "    (2020, 2021),\n",
    "    (2021, 2022),\n",
    "    (2022, 2023),\n",
    "    (2019, 2023),\n",
    "    (2022, 2020)\n",
    "]\n",
    "\n",
    "# Define the healthcare categories\n",
    "categories = [\n",
    "    'Adult Primary Care',\n",
    "    'Emergency Room Visits',\n",
    "    'Pediatric Primary Care',\n",
    "    'Urgent Care Visits'\n",
    "]\n",
    "\n",
    "for yearA, yearB in year_combinations:\n",
    "    for category in categories:\n",
    "        visualize_accessibility_difference(yearA, yearB, category)"
   ]
  },
  {
   "cell_type": "markdown",
   "id": "1b0740f7",
   "metadata": {},
   "source": [
    "## (1). Adult Primary Care\n",
    "\n",
    "We first examine spatial patterns of accessibility change in Adult Primary Care across Georgia from 2019 to 2022. Each map shows the difference in accessibility scores between two consecutive years.\n",
    "\n",
    "- **(a)** 2020 vs. 2019  \n",
    "- **(b)** 2021 vs. 2020  \n",
    "- **(c)** 2022 vs. 2021\n"
   ]
  },
  {
   "cell_type": "markdown",
   "id": "82df3863",
   "metadata": {},
   "source": [
    "![Adult Primary Care Accessibility Change over time](pics/covid_difference_APC.png)"
   ]
  },
  {
   "cell_type": "markdown",
   "id": "a96ce106",
   "metadata": {},
   "source": [
    "## (2). Emergency Room Visits\n",
    "\n",
    "Similar visualizations for Emergency Room accessibility changes show:\n",
    "\n",
    "- **(a)** 2020 vs. 2019  \n",
    "- **(b)** 2021 vs. 2020  \n",
    "- **(c)** 2022 vs. 2021\n"
   ]
  },
  {
   "cell_type": "markdown",
   "id": "2e75cf13",
   "metadata": {},
   "source": [
    "![Emergency Room Visits Accessibility Change over time](pics/covid_difference_ER.png)"
   ]
  },
  {
   "cell_type": "markdown",
   "id": "d98a6df0",
   "metadata": {},
   "source": [
    "## (3). Pediatric Primary Care\n",
    "\n",
    "The maps below visualize changes in Pediatric Primary Care accessibility:\n",
    "\n",
    "- **(a)** 2020 vs. 2019  \n",
    "- **(b)** 2021 vs. 2020  \n",
    "- **(c)** 2022 vs. 2021\n"
   ]
  },
  {
   "cell_type": "markdown",
   "id": "4ede3409",
   "metadata": {},
   "source": [
    "![Pediatric Primary Care Accessibility Change over time](/pics/covid_difference_PPC.png)"
   ]
  },
  {
   "cell_type": "markdown",
   "id": "fb6a5f17",
   "metadata": {},
   "source": [
    "## (4). Urgent Care Visits\n",
    "\n",
    "Year-over-year accessibility shifts in Urgent Care services are illustrated below:\n",
    "\n",
    "- **(a)** 2020 vs. 2019  \n",
    "- **(b)** 2021 vs. 2020  \n",
    "- **(c)** 2022 vs. 2021\n"
   ]
  },
  {
   "cell_type": "markdown",
   "id": "c847fcb6",
   "metadata": {},
   "source": [
    "![Urgent Care Accessibility Change over time](pics/covid_difference_UC.png)"
   ]
  },
  {
   "cell_type": "markdown",
   "id": "652b6ba2",
   "metadata": {},
   "source": [
    "## 3 Relative Accessibility Change (RAC) Patterns and Modeling Setup \n",
    "We define the target variable for our modeling as the **Relative Accessibility Change (RAC)** from 2020 to 2022 at the census block group (CBG) level for each healthcare service type.\n",
    "\n",
    "This section walks through the following:\n",
    "\n",
    "1. RAC definition and transformation  \n",
    "2. SHAP-based feature importance  \n",
    "3. Feature selection via Spearman correlation  \n",
    "4. SHAP value normalization  \n",
    "5. Model training and evaluation using CatBoost"
   ]
  },
  {
   "cell_type": "markdown",
   "id": "11a9956d",
   "metadata": {},
   "source": [
    "RAC:"
   ]
  },
  {
   "cell_type": "markdown",
   "id": "4e7d69c4",
   "metadata": {},
   "source": [
    "![RAC](pics/2020_2022covid_difference_all.png)"
   ]
  },
  {
   "cell_type": "markdown",
   "id": "a403c5dc",
   "metadata": {},
   "source": [
    "**for the modeling, run catboost0727.py file.**"
   ]
  },
  {
   "cell_type": "markdown",
   "id": "37fe664f",
   "metadata": {},
   "source": []
  }
 ],
 "metadata": {
  "kernelspec": {
   "display_name": "poi",
   "language": "python",
   "name": "python3"
  },
  "language_info": {
   "codemirror_mode": {
    "name": "ipython",
    "version": 3
   },
   "file_extension": ".py",
   "mimetype": "text/x-python",
   "name": "python",
   "nbconvert_exporter": "python",
   "pygments_lexer": "ipython3",
   "version": "3.9.19"
  }
 },
 "nbformat": 4,
 "nbformat_minor": 5
}
